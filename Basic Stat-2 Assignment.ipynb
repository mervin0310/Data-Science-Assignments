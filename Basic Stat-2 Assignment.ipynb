{
 "cells": [
  {
   "cell_type": "markdown",
   "id": "9ad95b6e",
   "metadata": {},
   "source": [
    "A total of 15 print-heads were randomly selected and tested until failure. The durability of each print-head (in millions of characters) was recorded as follows:\n",
    "1.13, 1.55, 1.43, 0.92, 1.25, 1.36, 1.32, 0.85, 1.07, 1.48, 1.20, 1.33, 1.18, 1.22, 1.29\n"
   ]
  },
  {
   "cell_type": "markdown",
   "id": "b297f4c8",
   "metadata": {},
   "source": [
    "a. Build 99% Confidence Interval Using Sample Standard Deviation\n",
    "Assuming the sample is representative of the population, construct a 99% confidence interval for the mean number of characters printed before the print-head fails using the sample standard deviation. Explain the steps you take and the rationale behind using the t-distribution for this task.\n"
   ]
  },
  {
   "cell_type": "code",
   "execution_count": 24,
   "id": "159ce811",
   "metadata": {},
   "outputs": [],
   "source": [
    "import pandas as pd\n",
    "import numpy as np\n",
    "import scipy.stats as stats\n",
    "import math"
   ]
  },
  {
   "cell_type": "code",
   "execution_count": 2,
   "id": "c06f151f",
   "metadata": {},
   "outputs": [],
   "source": [
    "data=[1.13, 1.55, 1.43, 0.92, 1.25, 1.36, 1.32, 0.85, 1.07, 1.48, 1.20, 1.33, 1.18, 1.22, 1.29]"
   ]
  },
  {
   "cell_type": "code",
   "execution_count": 15,
   "id": "d193b7fc",
   "metadata": {},
   "outputs": [
    {
     "data": {
      "text/plain": [
       "(15.39595613775819, 25.404043862241807)"
      ]
     },
     "execution_count": 15,
     "metadata": {},
     "output_type": "execute_result"
    }
   ],
   "source": [
    "stats.t.interval( df=15, loc=np.mean(data), scale=stats.sem(data),confidence=0.99) \n"
   ]
  },
  {
   "cell_type": "markdown",
   "id": "7bf92e74",
   "metadata": {},
   "source": [
    "the interval is (15.39595613775819, 25.404043862241807)"
   ]
  },
  {
   "cell_type": "markdown",
   "id": "8a754eab",
   "metadata": {},
   "source": [
    "b. Build 99% Confidence Interval Using Known Population Standard Deviation\n",
    "If it were known that the population standard deviation is 0.2 million characters, construct a 99% confidence interval for the mean number of characters printed before failure.\n"
   ]
  },
  {
   "cell_type": "markdown",
   "id": "712b9e79",
   "metadata": {},
   "source": [
    "confidence interval =(sample mean+ margin of error,sample mean-margin of error)"
   ]
  },
  {
   "cell_type": "code",
   "execution_count": 22,
   "id": "1044d042",
   "metadata": {},
   "outputs": [
    {
     "data": {
      "text/plain": [
       "20.4"
      ]
     },
     "execution_count": 22,
     "metadata": {},
     "output_type": "execute_result"
    }
   ],
   "source": [
    "pop_std=0.2\n",
    "sample_mean=np.mean(data)\n",
    "sample_mean\n"
   ]
  },
  {
   "cell_type": "markdown",
   "id": "4e7fc18b",
   "metadata": {},
   "source": [
    "margin of error = T crictical *(population std/sqrt(sample size))"
   ]
  },
  {
   "cell_type": "code",
   "execution_count": 21,
   "id": "1a5eb6db",
   "metadata": {},
   "outputs": [
    {
     "data": {
      "text/plain": [
       "2.976842734370834"
      ]
     },
     "execution_count": 21,
     "metadata": {},
     "output_type": "execute_result"
    }
   ],
   "source": [
    "T_crictical=stats.t.ppf(1-0.01/2,14)\n",
    "T_crictical"
   ]
  },
  {
   "cell_type": "code",
   "execution_count": 26,
   "id": "648f1787",
   "metadata": {},
   "outputs": [
    {
     "data": {
      "text/plain": [
       "0.15372349779329053"
      ]
     },
     "execution_count": 26,
     "metadata": {},
     "output_type": "execute_result"
    }
   ],
   "source": [
    "Margin_of_Error=T_crictical*(0.2/math.sqrt(15))\n",
    "Margin_of_Error"
   ]
  },
  {
   "cell_type": "code",
   "execution_count": 27,
   "id": "641785d2",
   "metadata": {},
   "outputs": [
    {
     "data": {
      "text/plain": [
       "20.55372349779329"
      ]
     },
     "execution_count": 27,
     "metadata": {},
     "output_type": "execute_result"
    }
   ],
   "source": [
    "sample_mean+Margin_of_Error"
   ]
  },
  {
   "cell_type": "code",
   "execution_count": 28,
   "id": "f5543547",
   "metadata": {},
   "outputs": [
    {
     "data": {
      "text/plain": [
       "20.246276502206708"
      ]
     },
     "execution_count": 28,
     "metadata": {},
     "output_type": "execute_result"
    }
   ],
   "source": [
    "sample_mean-Margin_of_Error"
   ]
  },
  {
   "cell_type": "markdown",
   "id": "e479eae4",
   "metadata": {},
   "source": [
    "the interval is(20.246276502206708,20.55372349779329)"
   ]
  },
  {
   "cell_type": "code",
   "execution_count": null,
   "id": "70ca3900",
   "metadata": {},
   "outputs": [],
   "source": []
  }
 ],
 "metadata": {
  "kernelspec": {
   "display_name": "Python 3 (ipykernel)",
   "language": "python",
   "name": "python3"
  },
  "language_info": {
   "codemirror_mode": {
    "name": "ipython",
    "version": 3
   },
   "file_extension": ".py",
   "mimetype": "text/x-python",
   "name": "python",
   "nbconvert_exporter": "python",
   "pygments_lexer": "ipython3",
   "version": "3.11.5"
  }
 },
 "nbformat": 4,
 "nbformat_minor": 5
}
