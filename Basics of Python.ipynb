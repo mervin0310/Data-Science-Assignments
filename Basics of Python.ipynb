{
 "cells": [
  {
   "cell_type": "markdown",
   "id": "506c3333",
   "metadata": {},
   "source": [
    "Exercise 1: Prime Numbers\n",
    "\n",
    "\n",
    "Write a Python program that checks whether a given number is prime or not. A prime number is a natural number greater than 1 that has no positive divisors other than 1 and itself.\n",
    "\n"
   ]
  },
  {
   "cell_type": "code",
   "execution_count": 1,
   "id": "b1d63460",
   "metadata": {},
   "outputs": [
    {
     "name": "stdout",
     "output_type": "stream",
     "text": [
      "enter a integer13\n",
      "{} is prime 13\n"
     ]
    }
   ],
   "source": [
    "import math\n",
    "n=int(input('enter a integer'))\n",
    "factors=[]\n",
    "if (n==0 or n==1):\n",
    "    print('{} is not prime',n)\n",
    "else:\n",
    "    for i in range(2,int(n/2)+1):\n",
    "        if n%i==0:\n",
    "            factors.append(i)\n",
    "    if len(factors)==0:\n",
    "        print('{} is prime',n)\n",
    "    else:\n",
    "        print('{} is not prime',n)\n",
    "\n",
    "    \n",
    "    "
   ]
  },
  {
   "cell_type": "markdown",
   "id": "b1ff3688",
   "metadata": {},
   "source": [
    "Exercise 2: Product of Random Numbers\n",
    "    \n",
    "Develop a Python program that generates two random numbers and asks the user to enter the product of these numbers. The program should then check if the user's answer is correct and display an appropriate message.\n"
   ]
  },
  {
   "cell_type": "code",
   "execution_count": 2,
   "id": "61d083e0",
   "metadata": {},
   "outputs": [
    {
     "name": "stdout",
     "output_type": "stream",
     "text": [
      "enter the product of 74 and 96 is 95\n",
      "sorry, your answer 95 for product of 74 and 96 is incorrect. please try again\n"
     ]
    }
   ],
   "source": [
    "import random\n",
    "a=random.randint(1,100)\n",
    "b=random.randint(1,100)\n",
    "\n",
    "predicted_ans=int(input('enter the product of {} and {} is '.format(a,b)))\n",
    "if (a*b)==predicted_ans:\n",
    "    print('congrats, your answer {} for product of {} and {} is correct'.format(predicted_ans,a,b))\n",
    "else:\n",
    "    print('sorry, your answer {} for product of {} and {} is incorrect. please try again'.format(predicted_ans,a,b))"
   ]
  },
  {
   "cell_type": "markdown",
   "id": "633b012f",
   "metadata": {},
   "source": [
    "Exercise 3: Squares of Even/Odd Numbers\n",
    "\n",
    "\n",
    "Create a Python script that prints the squares of all even or odd numbers within the range of 100 to 200. Choose either even or odd numbers and document your choice in the code.\n"
   ]
  },
  {
   "cell_type": "code",
   "execution_count": 4,
   "id": "bc81fc82",
   "metadata": {},
   "outputs": [
    {
     "name": "stdout",
     "output_type": "stream",
     "text": [
      "enter \"even\" or \"odd\" to print all the squares of them  even\n",
      "10000 10404 10816 11236 11664 12100 12544 12996 13456 13924 14400 14884 15376 15876 16384 16900 17424 17956 18496 19044 19600 20164 20736 21316 21904 22500 23104 23716 24336 24964 25600 26244 26896 27556 28224 28900 29584 30276 30976 31684 32400 33124 33856 34596 35344 36100 36864 37636 38416 39204 40000 "
     ]
    }
   ],
   "source": [
    "odd_or_even=input('enter \"even\" or \"odd\" to print all the squares of them  ')\n",
    "if odd_or_even=='odd':\n",
    "    for i in range(101,200,2):\n",
    "        print(i**2,end=' ')\n",
    "else:\n",
    "    for i in range(100,201,2):\n",
    "        print(i**2,end=' ')"
   ]
  },
  {
   "cell_type": "markdown",
   "id": "3d4c6edf",
   "metadata": {},
   "source": [
    "Exercise 4: Word counter\n",
    "\n",
    "\n",
    "write a program to count the number of words in a given text.\n",
    "\n",
    "example:\n",
    "\n",
    "input_text = \"This is a sample text. This text will be used to demonstrate the word counter.\"\n",
    "\n",
    "Expected output:\n",
    "'This': 2 \n",
    "'is': 1\n",
    "'a': 1\n",
    "'sample': 1\n",
    "'text.': 1\n"
   ]
  },
  {
   "cell_type": "code",
   "execution_count": 3,
   "id": "f87d8e4b",
   "metadata": {},
   "outputs": [
    {
     "name": "stdout",
     "output_type": "stream",
     "text": [
      "enter the text This is a sample text. This text will be used to demonstrate the word counte\n",
      "This : 2\n",
      "is : 1\n",
      "a : 1\n",
      "sample : 1\n",
      "text : 2\n",
      "will : 1\n",
      "be : 1\n",
      "used : 1\n",
      "to : 1\n",
      "demonstrate : 1\n",
      "the : 1\n",
      "word : 1\n",
      "counte : 1\n"
     ]
    }
   ],
   "source": [
    "def count(i):\n",
    "    if i[-1]=='.':\n",
    "        i=i[0:len(i)-1]\n",
    "    if i in word_list:\n",
    "        word_list[i]+=1\n",
    "    else:\n",
    "        word_list.update({i:1})\n",
    "word=input('enter the text ')\n",
    "word_list={}\n",
    "words=word.split()\n",
    "for i in words:\n",
    "    count(i)\n",
    "for i in word_list:\n",
    "    print(i,':',word_list[i])"
   ]
  },
  {
   "cell_type": "markdown",
   "id": "c47a4df1",
   "metadata": {},
   "source": [
    "Exercise 5: Check for Palindrome\n",
    "    \n",
    "Write a Python function called is_palindrome that takes a string as input and returns True if the string is a palindrome, and False otherwise. A palindrome is a word, phrase, number, or other sequence of characters that reads the same forward and backward, ignoring spaces, punctuation, and capitalization.\n",
    "\n",
    "Example:\n",
    "    \n",
    "Input: \"racecar\"\n",
    "    \n",
    "Expected Output: True\n"
   ]
  },
  {
   "cell_type": "code",
   "execution_count": 4,
   "id": "dd320612",
   "metadata": {},
   "outputs": [
    {
     "name": "stdout",
     "output_type": "stream",
     "text": [
      "enter a word to check planidrome or not  malayalam\n",
      "True\n"
     ]
    }
   ],
   "source": [
    "def palin(string):\n",
    "    return string==string[::-1]\n",
    "string=input('enter a word to check planidrome or not  ')\n",
    "if palin(string):\n",
    "    print(True)\n",
    "else:\n",
    "    print(False)\n"
   ]
  },
  {
   "cell_type": "code",
   "execution_count": null,
   "id": "bf1183ac",
   "metadata": {},
   "outputs": [],
   "source": []
  }
 ],
 "metadata": {
  "kernelspec": {
   "display_name": "Python 3 (ipykernel)",
   "language": "python",
   "name": "python3"
  },
  "language_info": {
   "codemirror_mode": {
    "name": "ipython",
    "version": 3
   },
   "file_extension": ".py",
   "mimetype": "text/x-python",
   "name": "python",
   "nbconvert_exporter": "python",
   "pygments_lexer": "ipython3",
   "version": "3.11.5"
  }
 },
 "nbformat": 4,
 "nbformat_minor": 5
}
