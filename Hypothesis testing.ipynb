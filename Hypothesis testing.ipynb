{
 "cells": [
  {
   "cell_type": "markdown",
   "id": "6dc9aa89",
   "metadata": {},
   "source": [
    "Bombay hospitality Ltd. operates a franchise model for producing exotic Norwegian dinners throughout New England. The operating cost for a franchise in a week (W) is given by the equation W = $1,000 + $5X, where X represents the number of units produced in a week. Recent feedback from restaurant owners suggests that this cost model may no longer be accurate, as their observed weekly operating costs are higher.\n",
    "\n",
    "Objective:\n",
    "To investigate the restaurant owners' claim about the increase in weekly operating costs using hypothesis testing.\n",
    "\n",
    "Data Provided:\n",
    "\n",
    "The theoretical weekly operating cost model: W = $1,000 + $5X\n",
    "\n",
    "Sample of 25 restaurants with a mean weekly cost of Rs. 3,050\n",
    "\n",
    "Number of units produced in a week (X) follows a normal distribution with a mean (μ) of 600 units and a standard deviation (σ) of 25 units\n",
    "\n"
   ]
  },
  {
   "cell_type": "markdown",
   "id": "51028422",
   "metadata": {},
   "source": [
    "#### 1. State the Hypotheses statement:"
   ]
  },
  {
   "cell_type": "markdown",
   "id": "664f24f9",
   "metadata": {},
   "source": [
    "Null Hypothesis (H0): The sample mean weekly cost is equal to the theoretical mean weekly cost according to the cost model."
   ]
  },
  {
   "cell_type": "markdown",
   "id": "874eab7d",
   "metadata": {},
   "source": [
    "Alternative Hypothesis (H1): The sample mean weekly cost  is not equal to the theoretical mean weekly cost\n",
    "according to the cost model."
   ]
  },
  {
   "cell_type": "markdown",
   "id": "35e4d081",
   "metadata": {},
   "source": [
    "#### 2. Calculate the Test Statistic:\n"
   ]
  },
  {
   "cell_type": "code",
   "execution_count": 5,
   "id": "6bbfca6b",
   "metadata": {},
   "outputs": [],
   "source": [
    "import math\n",
    "sample_mean=3050\n",
    "###theoretical mean weekly cost(W) = $1,000 + $5X for X = 600 units)\n",
    "theoretical_mean_cost=1000+ (5*600)\n",
    "std=25*5\n",
    "n=25"
   ]
  },
  {
   "cell_type": "code",
   "execution_count": 7,
   "id": "a9409ca9",
   "metadata": {},
   "outputs": [
    {
     "data": {
      "text/plain": [
       "-38.0"
      ]
     },
     "execution_count": 7,
     "metadata": {},
     "output_type": "execute_result"
    }
   ],
   "source": [
    "test_static=(sample_mean-theoretical_mean_cost)/(std/math.sqrt(n))\n",
    "test_static"
   ]
  },
  {
   "cell_type": "markdown",
   "id": "5e47cdab",
   "metadata": {},
   "source": [
    "#### 3. Determine the Critical Value:"
   ]
  },
  {
   "cell_type": "code",
   "execution_count": 8,
   "id": "de1a7982",
   "metadata": {},
   "outputs": [],
   "source": [
    "from scipy import stats"
   ]
  },
  {
   "cell_type": "code",
   "execution_count": 10,
   "id": "9dad34c7",
   "metadata": {},
   "outputs": [
    {
     "data": {
      "text/plain": [
       "1.959963984540054"
      ]
     },
     "execution_count": 10,
     "metadata": {},
     "output_type": "execute_result"
    }
   ],
   "source": [
    "alpha=0.05\n",
    "t_critical=stats.norm.ppf(1-alpha/2)\n",
    "t_critical"
   ]
  },
  {
   "cell_type": "markdown",
   "id": "7ce0ae27",
   "metadata": {},
   "source": [
    "#### 4. Make a Decision:"
   ]
  },
  {
   "cell_type": "markdown",
   "id": "127134ee",
   "metadata": {},
   "source": [
    "t_stats(-38) is far beyond t_critical(1.95)\n",
    "\n",
    "t_stats<t_critical\n",
    "\n",
    "Therefore, we reject the null hypothesis\n",
    "\n",
    "this means that the sample mean weekly cost significantly differs from the theoretical mean weekly cost "
   ]
  },
  {
   "cell_type": "markdown",
   "id": "6d16b2c7",
   "metadata": {},
   "source": [
    "#### 5. Conclusion:\n"
   ]
  },
  {
   "cell_type": "markdown",
   "id": "c28bb112",
   "metadata": {},
   "source": [
    "Therefore, we reject the null hypothesis. In practical terms, this means that the sample mean weekly cost significantly differs from the theoretical mean weekly cost according to the cost model."
   ]
  },
  {
   "cell_type": "code",
   "execution_count": null,
   "id": "4667e6ba",
   "metadata": {},
   "outputs": [],
   "source": []
  }
 ],
 "metadata": {
  "kernelspec": {
   "display_name": "Python 3 (ipykernel)",
   "language": "python",
   "name": "python3"
  },
  "language_info": {
   "codemirror_mode": {
    "name": "ipython",
    "version": 3
   },
   "file_extension": ".py",
   "mimetype": "text/x-python",
   "name": "python",
   "nbconvert_exporter": "python",
   "pygments_lexer": "ipython3",
   "version": "3.11.5"
  }
 },
 "nbformat": 4,
 "nbformat_minor": 5
}
