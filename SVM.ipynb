{
 "cells": [
  {
   "cell_type": "code",
   "execution_count": 1,
   "id": "d859253b",
   "metadata": {},
   "outputs": [
    {
     "name": "stderr",
     "output_type": "stream",
     "text": [
      "C:\\Users\\mervi\\anaconda3\\Lib\\site-packages\\pandas\\core\\arrays\\masked.py:60: UserWarning: Pandas requires version '1.3.6' or newer of 'bottleneck' (version '1.3.5' currently installed).\n",
      "  from pandas.core import (\n"
     ]
    }
   ],
   "source": [
    "import pandas as pd\n",
    "import seaborn as sns\n",
    "import matplotlib.pyplot as plt\n",
    "from sklearn.model_selection import train_test_split\n",
    "import warnings \n",
    "import sklearn\n",
    "warnings.filterwarnings('ignore')"
   ]
  },
  {
   "cell_type": "code",
   "execution_count": 2,
   "id": "c6e52ace",
   "metadata": {},
   "outputs": [
    {
     "data": {
      "text/html": [
       "<div>\n",
       "<style scoped>\n",
       "    .dataframe tbody tr th:only-of-type {\n",
       "        vertical-align: middle;\n",
       "    }\n",
       "\n",
       "    .dataframe tbody tr th {\n",
       "        vertical-align: top;\n",
       "    }\n",
       "\n",
       "    .dataframe thead th {\n",
       "        text-align: right;\n",
       "    }\n",
       "</style>\n",
       "<table border=\"1\" class=\"dataframe\">\n",
       "  <thead>\n",
       "    <tr style=\"text-align: right;\">\n",
       "      <th></th>\n",
       "      <th>Unnamed: 0</th>\n",
       "      <th>cap_shape</th>\n",
       "      <th>cap_surface</th>\n",
       "      <th>cap_color</th>\n",
       "      <th>bruises</th>\n",
       "      <th>odor</th>\n",
       "      <th>gill_attachment</th>\n",
       "      <th>gill_spacing</th>\n",
       "      <th>gill_size</th>\n",
       "      <th>gill_color</th>\n",
       "      <th>...</th>\n",
       "      <th>veil_type</th>\n",
       "      <th>veil_color</th>\n",
       "      <th>ring_number</th>\n",
       "      <th>ring_type</th>\n",
       "      <th>spore_print_color</th>\n",
       "      <th>population</th>\n",
       "      <th>habitat</th>\n",
       "      <th>class</th>\n",
       "      <th>stalk_height</th>\n",
       "      <th>cap_diameter</th>\n",
       "    </tr>\n",
       "  </thead>\n",
       "  <tbody>\n",
       "    <tr>\n",
       "      <th>0</th>\n",
       "      <td>1167</td>\n",
       "      <td>sunken</td>\n",
       "      <td>scaly</td>\n",
       "      <td>white</td>\n",
       "      <td>no</td>\n",
       "      <td>anise</td>\n",
       "      <td>descending</td>\n",
       "      <td>distant</td>\n",
       "      <td>broad</td>\n",
       "      <td>pink</td>\n",
       "      <td>...</td>\n",
       "      <td>partial</td>\n",
       "      <td>brown</td>\n",
       "      <td>two</td>\n",
       "      <td>sheathing</td>\n",
       "      <td>chocolate</td>\n",
       "      <td>clustered</td>\n",
       "      <td>waste</td>\n",
       "      <td>poisonous</td>\n",
       "      <td>14.276173</td>\n",
       "      <td>5.054983</td>\n",
       "    </tr>\n",
       "    <tr>\n",
       "      <th>1</th>\n",
       "      <td>1037</td>\n",
       "      <td>sunken</td>\n",
       "      <td>fibrous</td>\n",
       "      <td>red</td>\n",
       "      <td>no</td>\n",
       "      <td>anise</td>\n",
       "      <td>notched</td>\n",
       "      <td>crowded</td>\n",
       "      <td>narrow</td>\n",
       "      <td>chocolate</td>\n",
       "      <td>...</td>\n",
       "      <td>universal</td>\n",
       "      <td>brown</td>\n",
       "      <td>two</td>\n",
       "      <td>sheathing</td>\n",
       "      <td>brown</td>\n",
       "      <td>numerous</td>\n",
       "      <td>waste</td>\n",
       "      <td>edible</td>\n",
       "      <td>3.952715</td>\n",
       "      <td>19.068319</td>\n",
       "    </tr>\n",
       "    <tr>\n",
       "      <th>2</th>\n",
       "      <td>309</td>\n",
       "      <td>flat</td>\n",
       "      <td>grooves</td>\n",
       "      <td>purple</td>\n",
       "      <td>yes</td>\n",
       "      <td>foul</td>\n",
       "      <td>descending</td>\n",
       "      <td>crowded</td>\n",
       "      <td>broad</td>\n",
       "      <td>purple</td>\n",
       "      <td>...</td>\n",
       "      <td>universal</td>\n",
       "      <td>yellow</td>\n",
       "      <td>two</td>\n",
       "      <td>sheathing</td>\n",
       "      <td>purple</td>\n",
       "      <td>abundant</td>\n",
       "      <td>waste</td>\n",
       "      <td>poisonous</td>\n",
       "      <td>9.054265</td>\n",
       "      <td>7.205884</td>\n",
       "    </tr>\n",
       "    <tr>\n",
       "      <th>3</th>\n",
       "      <td>282</td>\n",
       "      <td>bell</td>\n",
       "      <td>scaly</td>\n",
       "      <td>pink</td>\n",
       "      <td>yes</td>\n",
       "      <td>fishy</td>\n",
       "      <td>notched</td>\n",
       "      <td>close</td>\n",
       "      <td>broad</td>\n",
       "      <td>orange</td>\n",
       "      <td>...</td>\n",
       "      <td>partial</td>\n",
       "      <td>yellow</td>\n",
       "      <td>two</td>\n",
       "      <td>cobwebby</td>\n",
       "      <td>green</td>\n",
       "      <td>clustered</td>\n",
       "      <td>grasses</td>\n",
       "      <td>poisonous</td>\n",
       "      <td>5.226499</td>\n",
       "      <td>20.932692</td>\n",
       "    </tr>\n",
       "    <tr>\n",
       "      <th>4</th>\n",
       "      <td>820</td>\n",
       "      <td>flat</td>\n",
       "      <td>smooth</td>\n",
       "      <td>yellow</td>\n",
       "      <td>yes</td>\n",
       "      <td>musty</td>\n",
       "      <td>free</td>\n",
       "      <td>crowded</td>\n",
       "      <td>narrow</td>\n",
       "      <td>orange</td>\n",
       "      <td>...</td>\n",
       "      <td>universal</td>\n",
       "      <td>white</td>\n",
       "      <td>none</td>\n",
       "      <td>none</td>\n",
       "      <td>yellow</td>\n",
       "      <td>clustered</td>\n",
       "      <td>urban</td>\n",
       "      <td>poisonous</td>\n",
       "      <td>14.037532</td>\n",
       "      <td>12.545245</td>\n",
       "    </tr>\n",
       "  </tbody>\n",
       "</table>\n",
       "<p>5 rows × 26 columns</p>\n",
       "</div>"
      ],
      "text/plain": [
       "   Unnamed: 0 cap_shape cap_surface cap_color bruises   odor gill_attachment  \\\n",
       "0        1167    sunken       scaly     white      no  anise      descending   \n",
       "1        1037    sunken     fibrous       red      no  anise         notched   \n",
       "2         309      flat     grooves    purple     yes   foul      descending   \n",
       "3         282      bell       scaly      pink     yes  fishy         notched   \n",
       "4         820      flat      smooth    yellow     yes  musty            free   \n",
       "\n",
       "  gill_spacing gill_size gill_color  ...  veil_type veil_color ring_number  \\\n",
       "0      distant     broad       pink  ...    partial      brown         two   \n",
       "1      crowded    narrow  chocolate  ...  universal      brown         two   \n",
       "2      crowded     broad     purple  ...  universal     yellow         two   \n",
       "3        close     broad     orange  ...    partial     yellow         two   \n",
       "4      crowded    narrow     orange  ...  universal      white        none   \n",
       "\n",
       "   ring_type spore_print_color population  habitat      class stalk_height  \\\n",
       "0  sheathing         chocolate  clustered    waste  poisonous    14.276173   \n",
       "1  sheathing             brown   numerous    waste     edible     3.952715   \n",
       "2  sheathing            purple   abundant    waste  poisonous     9.054265   \n",
       "3   cobwebby             green  clustered  grasses  poisonous     5.226499   \n",
       "4       none            yellow  clustered    urban  poisonous    14.037532   \n",
       "\n",
       "  cap_diameter  \n",
       "0     5.054983  \n",
       "1    19.068319  \n",
       "2     7.205884  \n",
       "3    20.932692  \n",
       "4    12.545245  \n",
       "\n",
       "[5 rows x 26 columns]"
      ]
     },
     "execution_count": 2,
     "metadata": {},
     "output_type": "execute_result"
    }
   ],
   "source": [
    "df=pd.read_csv('mushroom.csv')\n",
    "df.head()"
   ]
  },
  {
   "cell_type": "code",
   "execution_count": 3,
   "id": "b8facdca",
   "metadata": {},
   "outputs": [
    {
     "data": {
      "text/plain": [
       "Index(['Unnamed: 0', 'cap_shape', 'cap_surface', 'cap_color', 'bruises',\n",
       "       'odor', 'gill_attachment', 'gill_spacing', 'gill_size', 'gill_color',\n",
       "       'stalk_shape', 'stalk_root', 'stalk_surface_above_ring',\n",
       "       'stalk_surface_below_ring', 'stalk_color_above_ring',\n",
       "       'stalk_color_below_ring', 'veil_type', 'veil_color', 'ring_number',\n",
       "       'ring_type', 'spore_print_color', 'population', 'habitat', 'class',\n",
       "       'stalk_height', 'cap_diameter'],\n",
       "      dtype='object')"
      ]
     },
     "execution_count": 3,
     "metadata": {},
     "output_type": "execute_result"
    }
   ],
   "source": [
    "df.columns"
   ]
  },
  {
   "cell_type": "code",
   "execution_count": 4,
   "id": "d7c7ba54",
   "metadata": {},
   "outputs": [
    {
     "data": {
      "text/plain": [
       "([<matplotlib.patches.Wedge at 0x1cb468c3ed0>,\n",
       "  <matplotlib.patches.Wedge at 0x1cb468da350>],\n",
       " [Text(-0.24099194101762916, 0.33169697671904635, 'poisonous'),\n",
       "  Text(0.2409919410176291, -0.33169697671904635, 'edible')],\n",
       " [Text(-0.3585489854164727, 0.4935003799966298, '70%'),\n",
       "  Text(0.35854898541647257, -0.49350037999662993, '30%')])"
      ]
     },
     "execution_count": 4,
     "metadata": {},
     "output_type": "execute_result"
    },
    {
     "data": {
      "image/png": "[encoded data removed]",
      "text/plain": [
       "<Figure size 640x480 with 1 Axes>"
      ]
     },
     "metadata": {},
     "output_type": "display_data"
    }
   ],
   "source": [
    "plt.pie(df['class'].value_counts(),autopct='%0.f%%',labels=['poisonous','edible'],labeldistance=0.4,explode=(0.01,0.01),)"
   ]
  },
  {
   "cell_type": "code",
   "execution_count": 5,
   "id": "9ac03c2e",
   "metadata": {},
   "outputs": [
    {
     "data": {
      "text/plain": [
       "Unnamed: 0                  0\n",
       "cap_shape                   0\n",
       "cap_surface                 0\n",
       "cap_color                   0\n",
       "bruises                     0\n",
       "odor                        0\n",
       "gill_attachment             0\n",
       "gill_spacing                0\n",
       "gill_size                   0\n",
       "gill_color                  0\n",
       "stalk_shape                 0\n",
       "stalk_root                  0\n",
       "stalk_surface_above_ring    0\n",
       "stalk_surface_below_ring    0\n",
       "stalk_color_above_ring      0\n",
       "stalk_color_below_ring      0\n",
       "veil_type                   0\n",
       "veil_color                  0\n",
       "ring_number                 0\n",
       "ring_type                   0\n",
       "spore_print_color           0\n",
       "population                  0\n",
       "habitat                     0\n",
       "class                       0\n",
       "stalk_height                0\n",
       "cap_diameter                0\n",
       "dtype: int64"
      ]
     },
     "execution_count": 5,
     "metadata": {},
     "output_type": "execute_result"
    }
   ],
   "source": [
    "df.isna().sum()"
   ]
  },
  {
   "cell_type": "code",
   "execution_count": 6,
   "id": "9dd287d8",
   "metadata": {},
   "outputs": [
    {
     "data": {
      "text/plain": [
       "(2000, 26)"
      ]
     },
     "execution_count": 6,
     "metadata": {},
     "output_type": "execute_result"
    }
   ],
   "source": [
    "df.shape"
   ]
  },
  {
   "cell_type": "code",
   "execution_count": 7,
   "id": "2ce3bc91",
   "metadata": {},
   "outputs": [
    {
     "name": "stdout",
     "output_type": "stream",
     "text": [
      "<class 'pandas.core.frame.DataFrame'>\n",
      "RangeIndex: 2000 entries, 0 to 1999\n",
      "Data columns (total 26 columns):\n",
      " #   Column                    Non-Null Count  Dtype  \n",
      "---  ------                    --------------  -----  \n",
      " 0   Unnamed: 0                2000 non-null   int64  \n",
      " 1   cap_shape                 2000 non-null   object \n",
      " 2   cap_surface               2000 non-null   object \n",
      " 3   cap_color                 2000 non-null   object \n",
      " 4   bruises                   2000 non-null   object \n",
      " 5   odor                      2000 non-null   object \n",
      " 6   gill_attachment           2000 non-null   object \n",
      " 7   gill_spacing              2000 non-null   object \n",
      " 8   gill_size                 2000 non-null   object \n",
      " 9   gill_color                2000 non-null   object \n",
      " 10  stalk_shape               2000 non-null   object \n",
      " 11  stalk_root                2000 non-null   object \n",
      " 12  stalk_surface_above_ring  2000 non-null   object \n",
      " 13  stalk_surface_below_ring  2000 non-null   object \n",
      " 14  stalk_color_above_ring    2000 non-null   object \n",
      " 15  stalk_color_below_ring    2000 non-null   object \n",
      " 16  veil_type                 2000 non-null   object \n",
      " 17  veil_color                2000 non-null   object \n",
      " 18  ring_number               2000 non-null   object \n",
      " 19  ring_type                 2000 non-null   object \n",
      " 20  spore_print_color         2000 non-null   object \n",
      " 21  population                2000 non-null   object \n",
      " 22  habitat                   2000 non-null   object \n",
      " 23  class                     2000 non-null   object \n",
      " 24  stalk_height              2000 non-null   float64\n",
      " 25  cap_diameter              2000 non-null   float64\n",
      "dtypes: float64(2), int64(1), object(23)\n",
      "memory usage: 406.4+ KB\n"
     ]
    }
   ],
   "source": [
    "df.info()"
   ]
  },
  {
   "cell_type": "code",
   "execution_count": 8,
   "id": "a592baea",
   "metadata": {},
   "outputs": [
    {
     "data": {
      "text/plain": [
       "1024"
      ]
     },
     "execution_count": 8,
     "metadata": {},
     "output_type": "execute_result"
    }
   ],
   "source": [
    "df.duplicated().sum()"
   ]
  },
  {
   "cell_type": "code",
   "execution_count": 9,
   "id": "a89b2d1c",
   "metadata": {},
   "outputs": [],
   "source": [
    "df.drop_duplicates(inplace=True)"
   ]
  },
  {
   "cell_type": "code",
   "execution_count": 10,
   "id": "7c57caac",
   "metadata": {},
   "outputs": [
    {
     "data": {
      "text/plain": [
       "(976, 26)"
      ]
     },
     "execution_count": 10,
     "metadata": {},
     "output_type": "execute_result"
    }
   ],
   "source": [
    "df.shape"
   ]
  },
  {
   "cell_type": "code",
   "execution_count": 11,
   "id": "95a23a8b",
   "metadata": {},
   "outputs": [
    {
     "data": {
      "text/plain": [
       "([<matplotlib.patches.Wedge at 0x1cb4680bd10>,\n",
       "  <matplotlib.patches.Wedge at 0x1cb4698a890>],\n",
       " [Text(-0.16660124613057728, 0.3746251790626717, 'poisonous'),\n",
       "  Text(0.16660124613057725, -0.37462517906267173, 'edible')],\n",
       " [Text(-0.24787014668207838, 0.5573691688493407, '63%'),\n",
       "  Text(0.2478701466820783, -0.5573691688493408, '37%')])"
      ]
     },
     "execution_count": 11,
     "metadata": {},
     "output_type": "execute_result"
    },
    {
     "data": {
      "image/png": "[encoded data removed]",
      "text/plain": [
       "<Figure size 640x480 with 1 Axes>"
      ]
     },
     "metadata": {},
     "output_type": "display_data"
    }
   ],
   "source": [
    "plt.pie(df['class'].value_counts(),autopct='%0.f%%',labels=['poisonous','edible'],labeldistance=0.4,explode=(0.01,0.01),)"
   ]
  },
  {
   "cell_type": "code",
   "execution_count": 12,
   "id": "dd12045c",
   "metadata": {},
   "outputs": [],
   "source": [
    "from sklearn.preprocessing import LabelEncoder\n",
    "label=LabelEncoder()"
   ]
  },
  {
   "cell_type": "code",
   "execution_count": 13,
   "id": "4597c3a5",
   "metadata": {},
   "outputs": [],
   "source": [
    "labelencoder=LabelEncoder()\n",
    "for column in df.columns:\n",
    "    df[column] = label.fit_transform(df[column])"
   ]
  },
  {
   "cell_type": "code",
   "execution_count": 14,
   "id": "a18fed25",
   "metadata": {},
   "outputs": [],
   "source": [
    "\n",
    "features=df.drop(['class','Unnamed: 0'],axis=1)"
   ]
  },
  {
   "cell_type": "code",
   "execution_count": 15,
   "id": "012bf89b",
   "metadata": {},
   "outputs": [],
   "source": [
    "target=df['class']"
   ]
  },
  {
   "cell_type": "code",
   "execution_count": 16,
   "id": "8c563cc1",
   "metadata": {},
   "outputs": [],
   "source": [
    "x_train,x_test,y_train,y_test= train_test_split(features,target,train_size=0.75,random_state=100)"
   ]
  },
  {
   "cell_type": "code",
   "execution_count": 17,
   "id": "73ad7232",
   "metadata": {},
   "outputs": [
    {
     "name": "stdout",
     "output_type": "stream",
     "text": [
      "(732, 24)\n",
      "(244, 24)\n",
      "(732,)\n",
      "(244,)\n"
     ]
    }
   ],
   "source": [
    "print(x_train.shape)\n",
    "print(x_test.shape)\n",
    "print(y_train.shape)\n",
    "print(y_test.shape)"
   ]
  },
  {
   "cell_type": "code",
   "execution_count": 18,
   "id": "32b0cae1",
   "metadata": {},
   "outputs": [],
   "source": [
    "from sklearn.svm import SVC"
   ]
  },
  {
   "cell_type": "code",
   "execution_count": 19,
   "id": "e37d79ed",
   "metadata": {},
   "outputs": [
    {
     "name": "stdout",
     "output_type": "stream",
     "text": [
      "Test Accuracy: 59.02%\n"
     ]
    }
   ],
   "source": [
    "svm = SVC(random_state=42, gamma=\"auto\")\n",
    "svm.fit(x_train, y_train)\n",
    "\n",
    "print(\"Test Accuracy: {}%\".format(round(svm.score(x_test, y_test)*100, 2)))"
   ]
  },
  {
   "cell_type": "code",
   "execution_count": 20,
   "id": "315023ab",
   "metadata": {},
   "outputs": [
    {
     "name": "stdout",
     "output_type": "stream",
     "text": [
      "SVM Classifier report: \n",
      "\n",
      "               precision    recall  f1-score   support\n",
      "\n",
      "           0       0.00      0.00      0.00       100\n",
      "           1       0.59      1.00      0.74       144\n",
      "\n",
      "    accuracy                           0.59       244\n",
      "   macro avg       0.30      0.50      0.37       244\n",
      "weighted avg       0.35      0.59      0.44       244\n",
      "\n"
     ]
    }
   ],
   "source": [
    "from sklearn.metrics import classification_report,confusion_matrix\n",
    "y_pred_svm = svm.predict(x_test)\n",
    "print(\"SVM Classifier report: \\n\\n\", classification_report(y_test, y_pred_svm))"
   ]
  },
  {
   "cell_type": "code",
   "execution_count": 21,
   "id": "3bc786cc",
   "metadata": {},
   "outputs": [
    {
     "data": {
      "image/png": "[encoded data removed]",
      "text/plain": [
       "<Figure size 700x700 with 2 Axes>"
      ]
     },
     "metadata": {},
     "output_type": "display_data"
    }
   ],
   "source": [
    "cm = confusion_matrix(y_test, y_pred_svm)\n",
    "\n",
    "x_axis_labels = [\"Edible\", \"Poisonous\"]\n",
    "y_axis_labels = [\"Edible\", \"Poisonous\"]\n",
    "\n",
    "f, ax = plt.subplots(figsize =(7,7))\n",
    "sns.heatmap(cm, annot = True, linewidths=0.2, linecolor=\"black\", fmt = \".0f\", ax=ax, cmap=\"Purples\", xticklabels=x_axis_labels, yticklabels=y_axis_labels)\n",
    "plt.xlabel(\"PREDICTED LABEL\")\n",
    "plt.ylabel(\"TRUE LABEL\")\n",
    "plt.title('Confusion Matrix for SVM Classifier')\n",
    "#plt.savefig(\"svmcm.png\", format='png', dpi=900, bbox_inches='tight')\n",
    "plt.show()"
   ]
  },
  {
   "cell_type": "code",
   "execution_count": 22,
   "id": "93556643",
   "metadata": {},
   "outputs": [],
   "source": [
    "params={'C':[1,2,3,4,5,6,10,12],'kernel':['linear', 'poly', 'rbf', 'sigmoid'],'gamma':[0.1,0.2,0.3,0.4]}"
   ]
  },
  {
   "cell_type": "code",
   "execution_count": 23,
   "id": "634bc765",
   "metadata": {},
   "outputs": [],
   "source": [
    "from sklearn.model_selection import GridSearchCV\n",
    "from sklearn.svm import SVC"
   ]
  },
  {
   "cell_type": "code",
   "execution_count": null,
   "id": "89660d3f",
   "metadata": {},
   "outputs": [],
   "source": [
    "grid_searc= GridSearchCV(support,params,verbose=2)"
   ]
  },
  {
   "cell_type": "code",
   "execution_count": null,
   "id": "aae69e50",
   "metadata": {},
   "outputs": [],
   "source": [
    "grid_searc.fit(x_train,y_train)"
   ]
  },
  {
   "cell_type": "code",
   "execution_count": null,
   "id": "cb0b0456",
   "metadata": {},
   "outputs": [],
   "source": [
    "grid_searc.best"
   ]
  },
  {
   "cell_type": "code",
   "execution_count": null,
   "id": "c7be0734",
   "metadata": {},
   "outputs": [],
   "source": [
    "grid_searc.best_params_"
   ]
  }
 ],
 "metadata": {
  "kernelspec": {
   "display_name": "Python 3 (ipykernel)",
   "language": "python",
   "name": "python3"
  },
  "language_info": {
   "codemirror_mode": {
    "name": "ipython",
    "version": 3
   },
   "file_extension": ".py",
   "mimetype": "text/x-python",
   "name": "python",
   "nbconvert_exporter": "python",
   "pygments_lexer": "ipython3",
   "version": "3.11.5"
  }
 },
 "nbformat": 4,
 "nbformat_minor": 5
}
